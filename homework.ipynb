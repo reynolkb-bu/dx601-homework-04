{
 "cells": [
  {
   "cell_type": "markdown",
   "metadata": {
    "id": "QOUYaLGHhOgH"
   },
   "source": [
    "# DX 601 Week 4 Homework"
   ]
  },
  {
   "cell_type": "markdown",
   "metadata": {
    "id": "_NYSQfpU6p9u"
   },
   "source": [
    "## Introduction\n",
    "\n",
    "In this homework, you will practice linear regression and working with random variables.\n",
    "The data sets of this homework are small, so your code should run in an instant, but you will be able to apply the same techniques to larger data sets.\n",
    "\n",
    "You may find it helpful to refer to these GitHub repositories of Jupyter notebooks for sample code.\n",
    "\n",
    "* https://github.com/bu-cds-omds/dx500-examples\n",
    "* https://github.com/bu-cds-omds/dx601-examples\n",
    "* https://github.com/bu-cds-omds/dx602-examples\n",
    "\n",
    "Any calculations demonstrated in code examples or videos may be found in these notebooks, and you are allowed to copy this example code in your homework answers."
   ]
  },
  {
   "cell_type": "markdown",
   "metadata": {
    "id": "GH7dFzB97Wlh"
   },
   "source": [
    "## Instructions\n",
    "\n",
    "You should replace every instance of \"...\" below.\n",
    "These are where you are expected to write code to answer each problem.\n",
    "\n",
    "After some of the problems, there are extra code cells that will test functions that you wrote so you can quickly see how they run on an example.\n",
    "If your code works on these examples, it is more likely to be correct.\n",
    "However, the autograder will test different examples, so working correctly on these examples does not guarantee full credit for the problem.\n",
    "You may change the example inputs to further test your functions on your own.\n",
    "You may also add your own example inputs for problems where we did not provide any.\n",
    "\n",
    "Be sure to run each code block after you edit it to make sure it runs as expected.\n",
    "When you are done, we strongly recommend you run all the code from scratch (Runtime menu -> Restart and Run all) to make sure your current code works for all problems.\n",
    "\n",
    "If your code raises an exception when run from scratch, it will  interfere with the auto-grader process causing you to lose some or all points for this homework.\n",
    "Please ask for help in YellowDig or schedule an appointment with a learning facilitator if you get stuck.\n"
   ]
  },
  {
   "cell_type": "markdown",
   "metadata": {
    "id": "Ze7ev3s6Bu44"
   },
   "source": [
    "## Problems"
   ]
  },
  {
   "cell_type": "markdown",
   "metadata": {
    "id": "vf-VY5qsmS7n"
   },
   "source": [
    "## Shared Imports\n",
    "\n",
    "Do not install or use any additional modules.\n",
    "Installing additional modules may result in an autograder failure resulting in zero points for some or all problems."
   ]
  },
  {
   "cell_type": "code",
   "metadata": {
    "id": "RWYk7xICmOGe",
    "ExecuteTime": {
     "end_time": "2025-09-19T16:37:31.053879Z",
     "start_time": "2025-09-19T16:37:31.051616Z"
    }
   },
   "source": [
    "import math\n",
    "import random"
   ],
   "outputs": [],
   "execution_count": 1
  },
  {
   "cell_type": "code",
   "metadata": {
    "id": "RJSJeBTwCIUS",
    "ExecuteTime": {
     "end_time": "2025-09-19T16:37:36.450892Z",
     "start_time": "2025-09-19T16:37:31.974257Z"
    }
   },
   "source": [
    "import matplotlib.pyplot as plt\n",
    "import numpy as np\n",
    "import pandas as pd\n",
    "import sklearn.linear_model"
   ],
   "outputs": [],
   "execution_count": 2
  },
  {
   "cell_type": "markdown",
   "metadata": {
    "id": "UIRa5mxfB3FG"
   },
   "source": [
    "### Shared Data\n",
    "\n",
    "Many of the problems will use this mango data set.\n",
    "This data set is small and your code should run instantly with it, but you will be able to use the same code and techniques with larger data sets."
   ]
  },
  {
   "cell_type": "code",
   "metadata": {
    "id": "PiW8n851CKo8",
    "ExecuteTime": {
     "end_time": "2025-09-19T16:37:38.289765Z",
     "start_time": "2025-09-19T16:37:38.285032Z"
    }
   },
   "source": [
    "mango_data = pd.read_csv(\"mango-tiny.tsv\", sep=\"\\t\")"
   ],
   "outputs": [],
   "execution_count": 3
  },
  {
   "cell_type": "code",
   "metadata": {
    "colab": {
     "base_uri": "https://localhost:8080/",
     "height": 317
    },
    "id": "MrVaT2kv41QQ",
    "outputId": "828770a9-6f46-422e-b9ac-d01f1dbd5fb0",
    "ExecuteTime": {
     "end_time": "2025-09-19T16:37:39.791418Z",
     "start_time": "2025-09-19T16:37:39.784913Z"
    }
   },
   "source": [
    "mango_data"
   ],
   "outputs": [
    {
     "data": {
      "text/plain": [
       "   green_rating  yellow_rating  softness  wrinkles  estimated_flavor  \\\n",
       "0             1              5         4         0                 4   \n",
       "1             1              5         5         1                 5   \n",
       "2             2              4         3         1                 3   \n",
       "3             3              3         2         0                 2   \n",
       "4             5              1         1         1                 1   \n",
       "5             4              2         1         1                 1   \n",
       "6             5              1         1         1                 2   \n",
       "7             3              3         2         1                 2   \n",
       "\n",
       "   estimated_sweetness  rated_flavor  \n",
       "0                    4             5  \n",
       "1                    5             1  \n",
       "2                    3             3  \n",
       "3                    1             2  \n",
       "4                    1             1  \n",
       "5                    1             1  \n",
       "6                    1             1  \n",
       "7                    2             2  "
      ],
      "text/html": [
       "<div>\n",
       "<style scoped>\n",
       "    .dataframe tbody tr th:only-of-type {\n",
       "        vertical-align: middle;\n",
       "    }\n",
       "\n",
       "    .dataframe tbody tr th {\n",
       "        vertical-align: top;\n",
       "    }\n",
       "\n",
       "    .dataframe thead th {\n",
       "        text-align: right;\n",
       "    }\n",
       "</style>\n",
       "<table border=\"1\" class=\"dataframe\">\n",
       "  <thead>\n",
       "    <tr style=\"text-align: right;\">\n",
       "      <th></th>\n",
       "      <th>green_rating</th>\n",
       "      <th>yellow_rating</th>\n",
       "      <th>softness</th>\n",
       "      <th>wrinkles</th>\n",
       "      <th>estimated_flavor</th>\n",
       "      <th>estimated_sweetness</th>\n",
       "      <th>rated_flavor</th>\n",
       "    </tr>\n",
       "  </thead>\n",
       "  <tbody>\n",
       "    <tr>\n",
       "      <th>0</th>\n",
       "      <td>1</td>\n",
       "      <td>5</td>\n",
       "      <td>4</td>\n",
       "      <td>0</td>\n",
       "      <td>4</td>\n",
       "      <td>4</td>\n",
       "      <td>5</td>\n",
       "    </tr>\n",
       "    <tr>\n",
       "      <th>1</th>\n",
       "      <td>1</td>\n",
       "      <td>5</td>\n",
       "      <td>5</td>\n",
       "      <td>1</td>\n",
       "      <td>5</td>\n",
       "      <td>5</td>\n",
       "      <td>1</td>\n",
       "    </tr>\n",
       "    <tr>\n",
       "      <th>2</th>\n",
       "      <td>2</td>\n",
       "      <td>4</td>\n",
       "      <td>3</td>\n",
       "      <td>1</td>\n",
       "      <td>3</td>\n",
       "      <td>3</td>\n",
       "      <td>3</td>\n",
       "    </tr>\n",
       "    <tr>\n",
       "      <th>3</th>\n",
       "      <td>3</td>\n",
       "      <td>3</td>\n",
       "      <td>2</td>\n",
       "      <td>0</td>\n",
       "      <td>2</td>\n",
       "      <td>1</td>\n",
       "      <td>2</td>\n",
       "    </tr>\n",
       "    <tr>\n",
       "      <th>4</th>\n",
       "      <td>5</td>\n",
       "      <td>1</td>\n",
       "      <td>1</td>\n",
       "      <td>1</td>\n",
       "      <td>1</td>\n",
       "      <td>1</td>\n",
       "      <td>1</td>\n",
       "    </tr>\n",
       "    <tr>\n",
       "      <th>5</th>\n",
       "      <td>4</td>\n",
       "      <td>2</td>\n",
       "      <td>1</td>\n",
       "      <td>1</td>\n",
       "      <td>1</td>\n",
       "      <td>1</td>\n",
       "      <td>1</td>\n",
       "    </tr>\n",
       "    <tr>\n",
       "      <th>6</th>\n",
       "      <td>5</td>\n",
       "      <td>1</td>\n",
       "      <td>1</td>\n",
       "      <td>1</td>\n",
       "      <td>2</td>\n",
       "      <td>1</td>\n",
       "      <td>1</td>\n",
       "    </tr>\n",
       "    <tr>\n",
       "      <th>7</th>\n",
       "      <td>3</td>\n",
       "      <td>3</td>\n",
       "      <td>2</td>\n",
       "      <td>1</td>\n",
       "      <td>2</td>\n",
       "      <td>2</td>\n",
       "      <td>2</td>\n",
       "    </tr>\n",
       "  </tbody>\n",
       "</table>\n",
       "</div>"
      ]
     },
     "execution_count": 4,
     "metadata": {},
     "output_type": "execute_result"
    }
   ],
   "execution_count": 4
  },
  {
   "cell_type": "markdown",
   "metadata": {
    "id": "Poy2o9ST1EvL"
   },
   "source": [
    "### Problem 1\n",
    "\n",
    "Set `p1` to the number of parameters in a linear model trained on the mango data set that predicts rated flavor from the other columns."
   ]
  },
  {
   "cell_type": "code",
   "metadata": {
    "id": "nhdirreg1pyy",
    "ExecuteTime": {
     "end_time": "2025-09-19T16:53:31.987027Z",
     "start_time": "2025-09-19T16:53:31.983973Z"
    }
   },
   "source": [
    "# YOUR CHANGES HERE\n",
    "from sklearn.linear_model import LinearRegression\n",
    "\n",
    "# predict rated_flavors using other columns\n",
    "\n",
    "other_columns = mango_data.drop([\"rated_flavor\"], axis=1)\n",
    "\n",
    "X_train = other_columns\n",
    "y_train = mango_data[\"rated_flavor\"]\n",
    "\n",
    "model = LinearRegression()\n",
    "model.fit(X_train, y_train)\n",
    "\n",
    "p1 = len(model.coef_) + 1"
   ],
   "outputs": [],
   "execution_count": 17
  },
  {
   "cell_type": "code",
   "metadata": {
    "ExecuteTime": {
     "end_time": "2025-09-19T16:47:10.965507Z",
     "start_time": "2025-09-19T16:47:10.963472Z"
    }
   },
   "source": [
    "p1"
   ],
   "outputs": [
    {
     "data": {
      "text/plain": [
       "7"
      ]
     },
     "execution_count": 15,
     "metadata": {},
     "output_type": "execute_result"
    }
   ],
   "execution_count": 15
  },
  {
   "cell_type": "markdown",
   "metadata": {
    "id": "g06sNjVm2R_J"
   },
   "source": [
    "### Problem 2\n",
    "\n",
    "Set `p2` to $\\lim_{x \\rightarrow 2} \\frac{(x^2-4)}{x+2}$."
   ]
  },
  {
   "cell_type": "markdown",
   "metadata": {},
   "source": [
    "Hint: Try to simplify that fraction assuming $x \\neq 2$."
   ]
  },
  {
   "cell_type": "code",
   "metadata": {
    "id": "OpJpSZXW2RDO",
    "ExecuteTime": {
     "end_time": "2025-09-19T16:37:47.603037Z",
     "start_time": "2025-09-19T16:37:47.601136Z"
    }
   },
   "source": [
    "# YOUR CHANGES HERE\n",
    "\n",
    "def f(x):\n",
    "    return (x**2-4)/(x+2)\n",
    "\n",
    "p2 = f(2)"
   ],
   "outputs": [],
   "execution_count": 7
  },
  {
   "cell_type": "markdown",
   "metadata": {},
   "source": [
    "Check the value of `p2`."
   ]
  },
  {
   "cell_type": "code",
   "metadata": {
    "ExecuteTime": {
     "end_time": "2025-09-19T16:37:48.541650Z",
     "start_time": "2025-09-19T16:37:48.539540Z"
    }
   },
   "source": [
    "p2"
   ],
   "outputs": [
    {
     "data": {
      "text/plain": [
       "0.0"
      ]
     },
     "execution_count": 8,
     "metadata": {},
     "output_type": "execute_result"
    }
   ],
   "execution_count": 8
  },
  {
   "cell_type": "markdown",
   "metadata": {
    "id": "zb6e3gQs4cgL"
   },
   "source": [
    "### Problem 3\n",
    "\n",
    "What is the derivative of $x^2 - 3x + 9$ at $x=2$?"
   ]
  },
  {
   "cell_type": "code",
   "metadata": {
    "ExecuteTime": {
     "end_time": "2025-09-15T21:00:51.549560Z",
     "start_time": "2025-09-15T21:00:51.508880Z"
    }
   },
   "source": [
    "# DO NOT CHANGE\n",
    "\n",
    "xs = np.linspace(-5, 5)\n",
    "plt.plot(xs, xs * xs - 3 * xs + 9)\n",
    "plt.ylim(0);"
   ],
   "outputs": [
    {
     "data": {
      "text/plain": [
       "<Figure size 640x480 with 1 Axes>"
      ],
      "image/png": "[encoded data removed]"
     },
     "metadata": {},
     "output_type": "display_data"
    }
   ],
   "execution_count": 94
  },
  {
   "cell_type": "code",
   "metadata": {
    "id": "vH-PYxIl2zUn",
    "ExecuteTime": {
     "end_time": "2025-09-15T21:00:53.140679Z",
     "start_time": "2025-09-15T21:00:53.138515Z"
    }
   },
   "source": [
    "# YOUR CHANGES HERE\n",
    "\n",
    "# 2(2) - 3\n",
    "\n",
    "p3 = 1"
   ],
   "outputs": [],
   "execution_count": 95
  },
  {
   "cell_type": "markdown",
   "metadata": {},
   "source": [
    "Check the value of `p3`."
   ]
  },
  {
   "cell_type": "code",
   "metadata": {
    "ExecuteTime": {
     "end_time": "2025-09-15T21:00:55.768499Z",
     "start_time": "2025-09-15T21:00:55.765680Z"
    }
   },
   "source": [
    "p3"
   ],
   "outputs": [
    {
     "data": {
      "text/plain": [
       "1"
      ]
     },
     "execution_count": 96,
     "metadata": {},
     "output_type": "execute_result"
    }
   ],
   "execution_count": 96
  },
  {
   "cell_type": "markdown",
   "metadata": {
    "id": "QKUyLpq23Jeg"
   },
   "source": [
    "### Problem 4\n",
    "\n",
    "Set `p4` to the mean row of the mango data set.\n",
    "That is, `p4` should be a single row of data with the same columns, where each value is the mean of the corresponding column in the mango data set."
   ]
  },
  {
   "cell_type": "code",
   "metadata": {
    "id": "aNiGYYTg3sbv",
    "ExecuteTime": {
     "end_time": "2025-09-15T20:11:11.435903Z",
     "start_time": "2025-09-15T20:11:11.433550Z"
    }
   },
   "source": [
    "# YOUR CHANGES HERE\n",
    "\n",
    "p4 = mango_data.mean()"
   ],
   "outputs": [],
   "execution_count": 72
  },
  {
   "cell_type": "code",
   "metadata": {
    "ExecuteTime": {
     "end_time": "2025-09-14T23:41:25.324826Z",
     "start_time": "2025-09-14T23:41:25.321483Z"
    }
   },
   "source": [
    "p4"
   ],
   "outputs": [
    {
     "data": {
      "text/plain": [
       "green_rating           3.000\n",
       "yellow_rating          3.000\n",
       "softness               2.375\n",
       "wrinkles               0.750\n",
       "estimated_flavor       2.500\n",
       "estimated_sweetness    2.250\n",
       "rated_flavor           2.000\n",
       "dtype: float64"
      ]
     },
     "execution_count": 21,
     "metadata": {},
     "output_type": "execute_result"
    }
   ],
   "execution_count": 21
  },
  {
   "cell_type": "markdown",
   "metadata": {
    "id": "_4ZYOT4DB0L3"
   },
   "source": [
    "### Problem 5\n",
    "\n",
    "Set `p5` to be the median of the estimated flavor column in the mango data set.\n",
    "\n",
    "You may find NumPy's [numpy.median](https://numpy.org/doc/stable/reference/generated/numpy.median.html) function or pandas' [pandas.DataFrame.median](https://pandas.pydata.org/pandas-docs/stable/reference/api/pandas.DataFrame.median.html) method helpful."
   ]
  },
  {
   "cell_type": "code",
   "metadata": {
    "id": "qLQyPsen5ExP",
    "ExecuteTime": {
     "end_time": "2025-09-15T20:11:28.256917Z",
     "start_time": "2025-09-15T20:11:28.254252Z"
    }
   },
   "source": [
    "# YOUR CHANGES HERE\n",
    "\n",
    "p5 = mango_data[\"estimated_flavor\"].median()"
   ],
   "outputs": [],
   "execution_count": 73
  },
  {
   "cell_type": "markdown",
   "metadata": {},
   "source": [
    "Check the value of `p5`."
   ]
  },
  {
   "cell_type": "code",
   "metadata": {
    "ExecuteTime": {
     "end_time": "2025-09-15T20:11:35.598198Z",
     "start_time": "2025-09-15T20:11:35.595252Z"
    }
   },
   "source": [
    "p5"
   ],
   "outputs": [
    {
     "data": {
      "text/plain": [
       "np.float64(2.0)"
      ]
     },
     "execution_count": 74,
     "metadata": {},
     "output_type": "execute_result"
    }
   ],
   "execution_count": 74
  },
  {
   "cell_type": "markdown",
   "metadata": {
    "id": "4Sona6mNZDRD"
   },
   "source": [
    "### Problem 6\n",
    "\n",
    "How many local extrema does the function $x^3 - 3x$ have?"
   ]
  },
  {
   "cell_type": "code",
   "metadata": {
    "ExecuteTime": {
     "end_time": "2025-09-15T20:11:41.310037Z",
     "start_time": "2025-09-15T20:11:41.258309Z"
    }
   },
   "source": [
    "# @title Plot of $x^3 - 3x$\n",
    "\n",
    "xs = np.linspace(-5,5)\n",
    "plt.plot(xs, xs**3 - 3 * xs);"
   ],
   "outputs": [
    {
     "data": {
      "text/plain": [
       "<Figure size 640x480 with 1 Axes>"
      ],
      "image/png": "[encoded data removed]"
     },
     "metadata": {},
     "output_type": "display_data"
    }
   ],
   "execution_count": 75
  },
  {
   "cell_type": "code",
   "metadata": {
    "id": "8Ply7kvsZ9AB",
    "ExecuteTime": {
     "end_time": "2025-09-19T16:43:31.075375Z",
     "start_time": "2025-09-19T16:43:31.073728Z"
    }
   },
   "source": [
    "# YOUR CHANGES HERE\n",
    "\n",
    "p6 = 2"
   ],
   "outputs": [],
   "execution_count": 10
  },
  {
   "cell_type": "markdown",
   "metadata": {},
   "source": [
    "Check the value of `p6`."
   ]
  },
  {
   "cell_type": "code",
   "metadata": {
    "ExecuteTime": {
     "end_time": "2025-09-19T16:43:32.270900Z",
     "start_time": "2025-09-19T16:43:32.267927Z"
    }
   },
   "source": [
    "p6"
   ],
   "outputs": [
    {
     "data": {
      "text/plain": [
       "2"
      ]
     },
     "execution_count": 11,
     "metadata": {},
     "output_type": "execute_result"
    }
   ],
   "execution_count": 11
  },
  {
   "cell_type": "markdown",
   "metadata": {
    "id": "2sm6qPi7aKWO"
   },
   "source": [
    "### Problem 7\n",
    "\n",
    "Set `p7` to the number of following functions that are convex."
   ]
  },
  {
   "cell_type": "code",
   "metadata": {
    "ExecuteTime": {
     "end_time": "2025-09-15T20:11:48.912774Z",
     "start_time": "2025-09-15T20:11:48.562505Z"
    }
   },
   "source": [
    "# @ title Functions to Check for Convexity\n",
    "\n",
    "xs = np.linspace(-5, 5)\n",
    "\n",
    "plt.figure(figsize=(10, 4))\n",
    "plt.subplot(2, 5, 1)\n",
    "plt.plot(xs, xs**2)\n",
    "plt.title(\"$x^2$\")\n",
    "\n",
    "plt.subplot(2, 5, 2)\n",
    "plt.plot(xs, -xs**2)\n",
    "plt.title(\"$-x^2$\")\n",
    "\n",
    "plt.subplot(2, 5, 3)\n",
    "plt.plot(xs, xs**3)\n",
    "plt.title(\"$x^3$\")\n",
    "\n",
    "plt.subplot(2, 5, 4)\n",
    "plt.plot(xs, xs**4)\n",
    "plt.title(\"$x^4$\")\n",
    "\n",
    "plt.subplot(2, 5, 5)\n",
    "plt.plot(xs, xs*xs - 9 * xs)\n",
    "plt.title(\"$x^2 - 9x$\")\n",
    "\n",
    "plt.subplot(2, 5, 6)\n",
    "plt.plot(xs, xs)\n",
    "plt.title(\"$x$\")\n",
    "\n",
    "plt.subplot(2, 5, 7)\n",
    "plt.plot(xs, -xs**4+1000 * xs**2)\n",
    "plt.title(\"$1000x^2 - x^4$\")\n",
    "\n",
    "plt.subplot(2, 5, 8)\n",
    "plt.plot([x for x in xs if x > 0], [1 / x for x in xs if x > 0], color=\"C0\")\n",
    "plt.plot([x for x in xs if x < 0], [1 / x for x in xs if x < 0], color=\"C0\")\n",
    "plt.title(\"$1/x$\")\n",
    "\n",
    "plt.subplot(2, 5, 9)\n",
    "plt.plot(xs, -xs)\n",
    "plt.title(\"$-x$\")\n",
    "\n",
    "plt.subplot(2, 5, 10)\n",
    "plt.plot(xs, 0.001 * xs**2)\n",
    "plt.title(\"$0.001 x^2$\")\n",
    "\n",
    "plt.subplots_adjust(hspace=0.4, wspace=0.4);"
   ],
   "outputs": [
    {
     "data": {
      "text/plain": [
       "<Figure size 1000x400 with 10 Axes>"
      ],
      "image/png": "[encoded data removed]"
     },
     "metadata": {},
     "output_type": "display_data"
    }
   ],
   "execution_count": 78
  },
  {
   "cell_type": "markdown",
   "metadata": {},
   "source": [
    "Hint: Convexity is a global property of functions.\n",
    "You may want to change the range of x values to see the big picture."
   ]
  },
  {
   "cell_type": "code",
   "metadata": {
    "id": "0R8DkzA7bEJQ",
    "ExecuteTime": {
     "end_time": "2025-09-14T23:48:09.164874Z",
     "start_time": "2025-09-14T23:48:09.163077Z"
    }
   },
   "source": [
    "# YOUR CHANGES HERE\n",
    "\n",
    "p7 = 6"
   ],
   "outputs": [],
   "execution_count": 25
  },
  {
   "cell_type": "markdown",
   "metadata": {},
   "source": [
    "Check the value of `p7`."
   ]
  },
  {
   "cell_type": "code",
   "metadata": {
    "ExecuteTime": {
     "end_time": "2025-09-14T23:48:10.701306Z",
     "start_time": "2025-09-14T23:48:10.698783Z"
    }
   },
   "source": [
    "p7"
   ],
   "outputs": [
    {
     "data": {
      "text/plain": [
       "7"
      ]
     },
     "execution_count": 26,
     "metadata": {},
     "output_type": "execute_result"
    }
   ],
   "execution_count": 26
  },
  {
   "cell_type": "markdown",
   "metadata": {},
   "source": [
    "### Problem 8\n",
    "\n",
    "Set `p8` to $\\lim_{x \\to 2^-} \\frac{|x-2|}{x-2}$."
   ]
  },
  {
   "cell_type": "code",
   "metadata": {
    "ExecuteTime": {
     "end_time": "2025-09-19T16:43:46.330267Z",
     "start_time": "2025-09-19T16:43:46.328004Z"
    }
   },
   "source": [
    "# YOUR CHANGES HERE\n",
    "def f(x):\n",
    "    return abs(x - 2)/(x-2)\n",
    "\n",
    "p8 = int(f(-2))"
   ],
   "outputs": [],
   "execution_count": 12
  },
  {
   "cell_type": "markdown",
   "metadata": {},
   "source": [
    "Check the value of `p8`."
   ]
  },
  {
   "cell_type": "code",
   "metadata": {
    "ExecuteTime": {
     "end_time": "2025-09-19T16:43:47.429258Z",
     "start_time": "2025-09-19T16:43:47.426815Z"
    }
   },
   "source": [
    "p8"
   ],
   "outputs": [
    {
     "data": {
      "text/plain": [
       "-1"
      ]
     },
     "execution_count": 13,
     "metadata": {},
     "output_type": "execute_result"
    }
   ],
   "execution_count": 13
  },
  {
   "cell_type": "markdown",
   "metadata": {
    "id": "8Txa1RCXctp8"
   },
   "source": [
    "### Problem 9\n",
    "\n",
    "Write a function `p9` returning the derivative of $x^5$."
   ]
  },
  {
   "cell_type": "code",
   "metadata": {
    "id": "O-UvSyhKgofV",
    "ExecuteTime": {
     "end_time": "2025-09-15T00:35:23.639842Z",
     "start_time": "2025-09-15T00:35:23.637883Z"
    }
   },
   "source": [
    "# YOUR CHANGES HERE\n",
    "\n",
    "def p9(x):\n",
    "    return 5*(x**4)"
   ],
   "outputs": [],
   "execution_count": 41
  },
  {
   "cell_type": "markdown",
   "metadata": {},
   "source": [
    "Check the output of `p9`."
   ]
  },
  {
   "cell_type": "code",
   "metadata": {
    "ExecuteTime": {
     "end_time": "2025-09-15T00:35:25.941236Z",
     "start_time": "2025-09-15T00:35:25.938702Z"
    }
   },
   "source": "p9(0)",
   "outputs": [
    {
     "data": {
      "text/plain": [
       "0"
      ]
     },
     "execution_count": 42,
     "metadata": {},
     "output_type": "execute_result"
    }
   ],
   "execution_count": 42
  },
  {
   "cell_type": "code",
   "metadata": {
    "ExecuteTime": {
     "end_time": "2025-09-15T00:35:27.493739Z",
     "start_time": "2025-09-15T00:35:27.490660Z"
    }
   },
   "source": [
    "p9(1)"
   ],
   "outputs": [
    {
     "data": {
      "text/plain": [
       "5"
      ]
     },
     "execution_count": 43,
     "metadata": {},
     "output_type": "execute_result"
    }
   ],
   "execution_count": 43
  },
  {
   "cell_type": "markdown",
   "metadata": {
    "id": "5HznIgaTglgf"
   },
   "source": [
    "### Problem 10\n",
    "\n",
    "Write a function `p10` returning the derivative of $4 x^2$."
   ]
  },
  {
   "cell_type": "code",
   "metadata": {
    "id": "8BjrglyMiE3f",
    "ExecuteTime": {
     "end_time": "2025-09-15T00:35:59.666504Z",
     "start_time": "2025-09-15T00:35:59.664416Z"
    }
   },
   "source": [
    "# YOUR CHANGES HERE\n",
    "\n",
    "def p10(x):\n",
    "    return 8*x"
   ],
   "outputs": [],
   "execution_count": 44
  },
  {
   "cell_type": "markdown",
   "metadata": {},
   "source": [
    "Check the output of `p10`."
   ]
  },
  {
   "cell_type": "code",
   "metadata": {
    "ExecuteTime": {
     "end_time": "2025-09-15T00:36:01.060355Z",
     "start_time": "2025-09-15T00:36:01.057102Z"
    }
   },
   "source": [
    "p10(0)"
   ],
   "outputs": [
    {
     "data": {
      "text/plain": [
       "0"
      ]
     },
     "execution_count": 45,
     "metadata": {},
     "output_type": "execute_result"
    }
   ],
   "execution_count": 45
  },
  {
   "cell_type": "code",
   "metadata": {
    "ExecuteTime": {
     "end_time": "2025-09-15T00:36:02.576484Z",
     "start_time": "2025-09-15T00:36:02.574311Z"
    }
   },
   "source": [
    "p10(1)"
   ],
   "outputs": [
    {
     "data": {
      "text/plain": [
       "8"
      ]
     },
     "execution_count": 46,
     "metadata": {},
     "output_type": "execute_result"
    }
   ],
   "execution_count": 46
  },
  {
   "cell_type": "markdown",
   "metadata": {
    "id": "fs7pnCyl20n3"
   },
   "source": [
    "### Problem 11\n",
    "\n",
    "Write a function `p11` returning the derivative of $3 e^x + 5 x^5$."
   ]
  },
  {
   "cell_type": "code",
   "metadata": {
    "id": "1gp6Tcbh3IZT",
    "ExecuteTime": {
     "end_time": "2025-09-15T00:44:04.104454Z",
     "start_time": "2025-09-15T00:44:04.102581Z"
    }
   },
   "source": [
    "# YOUR CHANGES HERE\n",
    "\n",
    "def p11(x):\n",
    "    return 3*math.exp(x) + 25*(x**4)"
   ],
   "outputs": [],
   "execution_count": 47
  },
  {
   "cell_type": "markdown",
   "metadata": {},
   "source": [
    "Check the output of `p11`."
   ]
  },
  {
   "cell_type": "code",
   "metadata": {
    "ExecuteTime": {
     "end_time": "2025-09-15T00:44:05.396566Z",
     "start_time": "2025-09-15T00:44:05.393446Z"
    }
   },
   "source": [
    "p11(0)"
   ],
   "outputs": [
    {
     "data": {
      "text/plain": [
       "3.0"
      ]
     },
     "execution_count": 48,
     "metadata": {},
     "output_type": "execute_result"
    }
   ],
   "execution_count": 48
  },
  {
   "cell_type": "code",
   "metadata": {
    "ExecuteTime": {
     "end_time": "2025-09-15T00:44:06.473083Z",
     "start_time": "2025-09-15T00:44:06.470522Z"
    }
   },
   "source": [
    "p11(1)"
   ],
   "outputs": [
    {
     "data": {
      "text/plain": [
       "28.154845485377137"
      ]
     },
     "execution_count": 49,
     "metadata": {},
     "output_type": "execute_result"
    }
   ],
   "execution_count": 49
  },
  {
   "cell_type": "markdown",
   "metadata": {
    "id": "kBKzQOSRimNE"
   },
   "source": [
    "### Problem 12\n",
    "\n",
    "Write a function `p12` returning the derivative of $\\log_3(x)$.\n",
    "\n",
    "You could try to derive this using the chain rule, but feel free to look up the rule for logarithms with different bases."
   ]
  },
  {
   "cell_type": "code",
   "metadata": {
    "id": "AfQA658F4QXn",
    "ExecuteTime": {
     "end_time": "2025-09-15T00:49:37.588309Z",
     "start_time": "2025-09-15T00:49:37.586517Z"
    }
   },
   "source": [
    "# YOUR CHANGES HERE\n",
    "\n",
    "def p12(x):\n",
    "    return 1/(x * math.log(3))"
   ],
   "outputs": [],
   "execution_count": 50
  },
  {
   "cell_type": "markdown",
   "metadata": {},
   "source": [
    "Check the output of `p12`."
   ]
  },
  {
   "cell_type": "code",
   "metadata": {
    "ExecuteTime": {
     "end_time": "2025-09-15T00:49:38.785628Z",
     "start_time": "2025-09-15T00:49:38.782810Z"
    }
   },
   "source": [
    "p12(1)"
   ],
   "outputs": [
    {
     "data": {
      "text/plain": [
       "0.9102392266268373"
      ]
     },
     "execution_count": 51,
     "metadata": {},
     "output_type": "execute_result"
    }
   ],
   "execution_count": 51
  },
  {
   "cell_type": "code",
   "metadata": {
    "ExecuteTime": {
     "end_time": "2025-09-15T00:49:39.950526Z",
     "start_time": "2025-09-15T00:49:39.947918Z"
    }
   },
   "source": [
    "p12(3)"
   ],
   "outputs": [
    {
     "data": {
      "text/plain": [
       "0.30341307554227914"
      ]
     },
     "execution_count": 52,
     "metadata": {},
     "output_type": "execute_result"
    }
   ],
   "execution_count": 52
  },
  {
   "cell_type": "markdown",
   "metadata": {
    "id": "EO8OiHX231oD"
   },
   "source": [
    "### Problem 13\n",
    "\n",
    "Build a linear regression for the mango rated flavor column using all the other columns as inputs.\n",
    "Set `p13` to be the output of this model for the mean row of the data set (similar to your answer to problem 4, but without the rated flavor column)."
   ]
  },
  {
   "cell_type": "code",
   "metadata": {
    "id": "hMx4gfZpkvR2",
    "ExecuteTime": {
     "end_time": "2025-09-19T17:16:49.848335Z",
     "start_time": "2025-09-19T17:16:49.841667Z"
    }
   },
   "source": [
    "# YOUR CHANGES HERE\n",
    "\n",
    "# predict rated flavor using other columns\n",
    "\n",
    "other_columns = mango_data.drop([\"rated_flavor\"], axis=1)\n",
    "\n",
    "X_train = other_columns\n",
    "y_train = mango_data[\"rated_flavor\"]\n",
    "\n",
    "model = LinearRegression()\n",
    "model.fit(X_train, y_train)\n",
    "\n",
    "mean_row = pd.DataFrame([other_columns.mean()])\n",
    "\n",
    "print(other_columns.mean())\n",
    "print(mean_row)\n",
    "\n",
    "p13 = model.predict(mean_row)[0]"
   ],
   "outputs": [
    {
     "name": "stdout",
     "output_type": "stream",
     "text": [
      "green_rating           3.000\n",
      "yellow_rating          3.000\n",
      "softness               2.375\n",
      "wrinkles               0.750\n",
      "estimated_flavor       2.500\n",
      "estimated_sweetness    2.250\n",
      "dtype: float64\n",
      "   green_rating  yellow_rating  softness  wrinkles  estimated_flavor  \\\n",
      "0           3.0            3.0     2.375      0.75               2.5   \n",
      "\n",
      "   estimated_sweetness  \n",
      "0                 2.25  \n"
     ]
    }
   ],
   "execution_count": 23
  },
  {
   "cell_type": "markdown",
   "metadata": {},
   "source": [
    "Check the value of `p13`."
   ]
  },
  {
   "cell_type": "code",
   "metadata": {
    "ExecuteTime": {
     "end_time": "2025-09-19T17:07:13.627432Z",
     "start_time": "2025-09-19T17:07:13.624604Z"
    }
   },
   "source": [
    "p13"
   ],
   "outputs": [
    {
     "data": {
      "text/plain": [
       "np.float64(2.0)"
      ]
     },
     "execution_count": 22,
     "metadata": {},
     "output_type": "execute_result"
    }
   ],
   "execution_count": 22
  },
  {
   "cell_type": "markdown",
   "metadata": {
    "id": "kaLaPYxpk0Vz"
   },
   "source": [
    "### Problem 14\n",
    "\n",
    "The derivative of the polynomial $5 x^{99} - 2 x^78 + 3 x^{25} + 4 x^4 -357$ is another polynomial.\n",
    "What is the degree of that polynomial?"
   ]
  },
  {
   "cell_type": "code",
   "metadata": {
    "id": "M2wYKVq1k9mU",
    "ExecuteTime": {
     "end_time": "2025-09-15T20:43:59.280107Z",
     "start_time": "2025-09-15T20:43:59.278271Z"
    }
   },
   "source": [
    "# YOUR CHANGES HERE\n",
    "\n",
    "p14 = 98"
   ],
   "outputs": [],
   "execution_count": 86
  },
  {
   "cell_type": "markdown",
   "metadata": {},
   "source": [
    "Check the value of `p14`."
   ]
  },
  {
   "cell_type": "code",
   "metadata": {
    "ExecuteTime": {
     "end_time": "2025-09-15T20:44:00.732085Z",
     "start_time": "2025-09-15T20:44:00.729798Z"
    }
   },
   "source": [
    "p14"
   ],
   "outputs": [
    {
     "data": {
      "text/plain": [
       "98"
      ]
     },
     "execution_count": 87,
     "metadata": {},
     "output_type": "execute_result"
    }
   ],
   "execution_count": 87
  },
  {
   "cell_type": "markdown",
   "metadata": {
    "id": "xCr3e8q2k_Kw"
   },
   "source": [
    "### Problem 15\n",
    "\n",
    "Write a function `p15` that takes in parameters `m` and `b` and computes the average $L_2$ loss for the training data in `x15` and `y15` based on the linear prediction $mx + b$."
   ]
  },
  {
   "cell_type": "code",
   "metadata": {
    "ExecuteTime": {
     "end_time": "2025-09-15T20:56:54.221811Z",
     "start_time": "2025-09-15T20:56:54.219903Z"
    }
   },
   "source": [
    "# DO NOT CHANGE\n",
    "\n",
    "x15 = np.asarray([0, 1, 2, 3, 4])\n",
    "y15 = np.asarray([0, 0, 1, 1, 1])"
   ],
   "outputs": [],
   "execution_count": 88
  },
  {
   "cell_type": "code",
   "metadata": {
    "id": "K1jxw2uFlZQn",
    "ExecuteTime": {
     "end_time": "2025-09-15T20:56:55.239736Z",
     "start_time": "2025-09-15T20:56:55.237333Z"
    }
   },
   "source": [
    "# YOUR CHANGES HERE\n",
    "def p15(m, b):\n",
    "    y_true = y15\n",
    "    y_pred = calc_y_pred(m, b, x15)\n",
    "    return l2_loss(y_true, y_pred)\n",
    "\n",
    "def l2_loss(y_true, y_pred):\n",
    "    return np.mean((y_true - y_pred)**2)\n",
    "\n",
    "def calc_y_pred(m, b, x_values):\n",
    "    return m * x_values + b"
   ],
   "outputs": [],
   "execution_count": 89
  },
  {
   "cell_type": "markdown",
   "metadata": {},
   "source": [
    "Test `p15` with different inputs."
   ]
  },
  {
   "cell_type": "code",
   "metadata": {
    "ExecuteTime": {
     "end_time": "2025-09-15T20:56:56.821794Z",
     "start_time": "2025-09-15T20:56:56.818770Z"
    }
   },
   "source": [
    "p15(0, 0)"
   ],
   "outputs": [
    {
     "data": {
      "text/plain": [
       "np.float64(0.6)"
      ]
     },
     "execution_count": 90,
     "metadata": {},
     "output_type": "execute_result"
    }
   ],
   "execution_count": 90
  },
  {
   "cell_type": "code",
   "metadata": {
    "ExecuteTime": {
     "end_time": "2025-09-15T20:56:58.192183Z",
     "start_time": "2025-09-15T20:56:58.189983Z"
    }
   },
   "source": [
    "p15(0, 1)"
   ],
   "outputs": [
    {
     "data": {
      "text/plain": [
       "np.float64(0.4)"
      ]
     },
     "execution_count": 91,
     "metadata": {},
     "output_type": "execute_result"
    }
   ],
   "execution_count": 91
  },
  {
   "cell_type": "code",
   "metadata": {
    "ExecuteTime": {
     "end_time": "2025-09-15T20:56:59.276349Z",
     "start_time": "2025-09-15T20:56:59.273304Z"
    }
   },
   "source": [
    "p15(1, 0)"
   ],
   "outputs": [
    {
     "data": {
      "text/plain": [
       "np.float64(3.0)"
      ]
     },
     "execution_count": 92,
     "metadata": {},
     "output_type": "execute_result"
    }
   ],
   "execution_count": 92
  },
  {
   "cell_type": "code",
   "metadata": {
    "ExecuteTime": {
     "end_time": "2025-09-15T20:57:00.527218Z",
     "start_time": "2025-09-15T20:57:00.524394Z"
    }
   },
   "source": [
    "p15(1, 1)"
   ],
   "outputs": [
    {
     "data": {
      "text/plain": [
       "np.float64(6.8)"
      ]
     },
     "execution_count": 93,
     "metadata": {},
     "output_type": "execute_result"
    }
   ],
   "execution_count": 93
  },
  {
   "cell_type": "markdown",
   "metadata": {
    "id": "I7fYOQ7Hlb06"
   },
   "source": [
    "### Problem 16\n",
    "\n",
    "Write a function `p16` that takes in four parameters, `a`, `b`, `c`, and `x_in`, and returns the derivative of $ax^2 + bx +c$ evaluated at value $x=x_{in}$.\n",
    "\n",
    "That is, `p16` should compute $\\frac{d (ax^2 + bx +c)}{dx}(x_{in})$."
   ]
  },
  {
   "cell_type": "code",
   "metadata": {
    "id": "qETAzrs8l6iU",
    "ExecuteTime": {
     "end_time": "2025-09-15T21:03:37.420891Z",
     "start_time": "2025-09-15T21:03:37.418751Z"
    }
   },
   "source": [
    "# YOUR CHANGES HERE\n",
    "\n",
    "def p16(a, b, c, x_in):\n",
    "    return 2*a*x_in + b"
   ],
   "outputs": [],
   "execution_count": 97
  },
  {
   "cell_type": "markdown",
   "metadata": {
    "id": "6wqDZ1uFl-rx"
   },
   "source": [
    "### Problem 17\n",
    "\n",
    "Set `p17` to $\\lim_{x \\to 0} x^2 \\mathrm{cos} \\left( \\frac{1}{x} \\right)$."
   ]
  },
  {
   "cell_type": "code",
   "metadata": {
    "ExecuteTime": {
     "end_time": "2025-09-15T21:05:16.918615Z",
     "start_time": "2025-09-15T21:05:16.862289Z"
    }
   },
   "source": [
    "# @title Plot of $x^2 cos(1/x)\n",
    "\n",
    "xs = np.linspace(-0.25, 0.25, 1000)\n",
    "plt.plot(xs, xs**2 * np.cos(1 / xs));"
   ],
   "outputs": [
    {
     "data": {
      "text/plain": [
       "<Figure size 640x480 with 1 Axes>"
      ],
      "image/png": "[encoded data removed]"
     },
     "metadata": {},
     "output_type": "display_data"
    }
   ],
   "execution_count": 99
  },
  {
   "cell_type": "markdown",
   "metadata": {},
   "source": [
    "Hint: This one looks tricky because $\\mathrm{cos} \\left( \\frac{1}{x} \\right)$ oscillates increasingly fast as $x$ approaches zero.\n",
    "However, you should still be able to bound its behavior."
   ]
  },
  {
   "cell_type": "code",
   "metadata": {
    "id": "r6b4X09smlcz",
    "ExecuteTime": {
     "end_time": "2025-09-19T17:27:18.371811Z",
     "start_time": "2025-09-19T17:27:18.370102Z"
    }
   },
   "source": [
    "# YOUR CHANGES HERE\n",
    "\n",
    "p17 = 0"
   ],
   "outputs": [],
   "execution_count": 25
  },
  {
   "cell_type": "code",
   "metadata": {
    "ExecuteTime": {
     "end_time": "2025-09-19T17:27:19.741974Z",
     "start_time": "2025-09-19T17:27:19.739284Z"
    }
   },
   "source": [
    "p17"
   ],
   "outputs": [
    {
     "data": {
      "text/plain": [
       "0"
      ]
     },
     "execution_count": 26,
     "metadata": {},
     "output_type": "execute_result"
    }
   ],
   "execution_count": 26
  },
  {
   "cell_type": "markdown",
   "metadata": {
    "id": "wO5h_FDkmnaC"
   },
   "source": [
    "### Problem 18\n",
    "\n",
    "Given a model with a single parameter $c$ whose loss function in terms of $c$ is convex, and given the following samples of the loss function output, what is the best (highest) lower bound that you can put on the optimal value of $c$?\n",
    "\n",
    "| c | Loss(c) |\n",
    "|---:|---:|\n",
    "| 0 | 1.0 |\n",
    "| 1 | 0.5 |\n",
    "| 2 | 0.25 |\n",
    "| 3 | 0.125 | \n",
    "| 4 | 0.25 |\n",
    "| 5 | 0.6 |\n",
    "| 6 | 0.9 |"
   ]
  },
  {
   "cell_type": "code",
   "metadata": {
    "id": "E8cvcltFq4wn",
    "ExecuteTime": {
     "end_time": "2025-09-19T21:07:45.276094Z",
     "start_time": "2025-09-19T21:07:45.274331Z"
    }
   },
   "source": [
    "# YOUR CHANGES HERE\n",
    "\n",
    "p18 = 2"
   ],
   "outputs": [],
   "execution_count": 36
  },
  {
   "cell_type": "markdown",
   "metadata": {},
   "source": [
    "Check the value of `p18`."
   ]
  },
  {
   "cell_type": "code",
   "metadata": {
    "ExecuteTime": {
     "end_time": "2025-09-19T21:07:47.054767Z",
     "start_time": "2025-09-19T21:07:47.052447Z"
    }
   },
   "source": [
    "p18"
   ],
   "outputs": [
    {
     "data": {
      "text/plain": [
       "2"
      ]
     },
     "execution_count": 37,
     "metadata": {},
     "output_type": "execute_result"
    }
   ],
   "execution_count": 37
  },
  {
   "cell_type": "markdown",
   "metadata": {
    "id": "OIv4TecnnLwW"
   },
   "source": [
    "### Problem 19\n",
    "\n",
    "Write a function `p19` that returns the strings \"cat\", \"dog\", \"cow\", \"tiger\" or \"horse\" with equal probability."
   ]
  },
  {
   "cell_type": "code",
   "metadata": {
    "id": "CXavfX24nWyL",
    "ExecuteTime": {
     "end_time": "2025-09-14T23:51:59.364758Z",
     "start_time": "2025-09-14T23:51:59.362731Z"
    }
   },
   "source": [
    "# YOUR CHANGES HERE\n",
    "\n",
    "def p19():\n",
    "    arr_strings = [\"cat\", \"dog\", \"cow\", \"tiger\", \"horse\"]\n",
    "    return random.choice(arr_strings)"
   ],
   "outputs": [],
   "execution_count": 27
  },
  {
   "cell_type": "code",
   "metadata": {
    "ExecuteTime": {
     "end_time": "2025-09-14T23:52:00.331123Z",
     "start_time": "2025-09-14T23:52:00.328083Z"
    }
   },
   "source": [
    "[p19() for _ in range(10)]"
   ],
   "outputs": [
    {
     "data": {
      "text/plain": [
       "['cat', 'tiger', 'cat', 'horse', 'tiger', 'tiger', 'dog', 'cat', 'dog', 'cat']"
      ]
     },
     "execution_count": 28,
     "metadata": {},
     "output_type": "execute_result"
    }
   ],
   "execution_count": 28
  },
  {
   "cell_type": "markdown",
   "metadata": {
    "id": "WJy4fHQlnYos"
   },
   "source": [
    "### Problem 20\n",
    "\n",
    "Set `p20` to the value of $x$ that minimizes $x^4 + 3x^3 + 2x + 5$."
   ]
  },
  {
   "cell_type": "code",
   "metadata": {
    "ExecuteTime": {
     "end_time": "2025-09-19T20:41:24.366492Z",
     "start_time": "2025-09-19T20:41:24.364486Z"
    }
   },
   "source": [
    "def q20(x):\n",
    "    return x**4 + 3 * x**3 + 2*x + 5"
   ],
   "outputs": [],
   "execution_count": 32
  },
  {
   "cell_type": "code",
   "metadata": {
    "ExecuteTime": {
     "end_time": "2025-09-19T20:41:25.674163Z",
     "start_time": "2025-09-19T20:41:25.573421Z"
    }
   },
   "source": [
    "# @title Plot of $x^4 + 3x^3 + 2x + 5$\n",
    "\n",
    "xs = np.linspace(-5, 5, 1000)\n",
    "plt.plot(xs, xs**4 + 3 * xs**3 + 2*xs + 5);"
   ],
   "outputs": [
    {
     "data": {
      "text/plain": [
       "<Figure size 640x480 with 1 Axes>"
      ],
      "image/png": "[encoded data removed]"
     },
     "metadata": {},
     "output_type": "display_data"
    }
   ],
   "execution_count": 33
  },
  {
   "cell_type": "markdown",
   "metadata": {},
   "source": [
    "Hint: whatever tactics you prefer to minimize this function numerically."
   ]
  },
  {
   "cell_type": "code",
   "metadata": {
    "id": "qHCZc2VFrDfY",
    "ExecuteTime": {
     "end_time": "2025-09-19T20:41:15.186090Z",
     "start_time": "2025-09-19T20:41:15.183184Z"
    }
   },
   "source": [
    "# YOUR CHANGES HERE\n",
    "\n",
    "def f(x):\n",
    "    return x**4 + 3 * x**3 + 2*x + 5\n",
    "\n",
    "def df(x):\n",
    "    return 4*x**3 + 9*x**2 + 2\n",
    "\n",
    "# find the suspected min value by plugging a few test values into the derivative\n",
    "\n",
    "print(f\"df(-1): {df(-1)}\")\n",
    "print(f\"df(-2): {df(-2)}\")\n",
    "print(f\"df(-3): {df(-3)}\")\n",
    "\n",
    "print(f\"df(-2.5): {df(-2.5)}\")\n",
    "\n",
    "x = -2.25\n",
    "for i in range(6):\n",
    "    second_derivative = 12 * x ** 2 + 18 * x\n",
    "    x = x - df(x) / second_derivative\n",
    "    print(i, x)\n",
    "\n",
    "p20 = x"
   ],
   "outputs": [
    {
     "name": "stdout",
     "output_type": "stream",
     "text": [
      "df(-1): 7\n",
      "df(-2): 6\n",
      "df(-3): -25\n",
      "df(-2.5): -4.25\n",
      "0 -2.3487654320987654\n",
      "1 -2.34126471804235\n",
      "2 -2.341219122008509\n",
      "3 -2.3412191203287724\n",
      "4 -2.341219120328772\n",
      "5 -2.3412191203287724\n"
     ]
    }
   ],
   "execution_count": 29
  },
  {
   "cell_type": "markdown",
   "metadata": {},
   "source": [
    "Check the value of `p20`."
   ]
  },
  {
   "cell_type": "code",
   "metadata": {
    "ExecuteTime": {
     "end_time": "2025-09-19T20:41:17.916024Z",
     "start_time": "2025-09-19T20:41:17.913600Z"
    }
   },
   "source": [
    "p20"
   ],
   "outputs": [
    {
     "data": {
      "text/plain": [
       "-2.3412191203287724"
      ]
     },
     "execution_count": 30,
     "metadata": {},
     "output_type": "execute_result"
    }
   ],
   "execution_count": 30
  },
  {
   "cell_type": "code",
   "metadata": {
    "ExecuteTime": {
     "end_time": "2025-09-19T20:41:28.797373Z",
     "start_time": "2025-09-19T20:41:28.794665Z"
    }
   },
   "source": [
    "q20(p20)"
   ],
   "outputs": [
    {
     "data": {
      "text/plain": [
       "-8.136534191343896"
      ]
     },
     "execution_count": 34,
     "metadata": {},
     "output_type": "execute_result"
    }
   ],
   "execution_count": 34
  },
  {
   "cell_type": "markdown",
   "metadata": {},
   "source": [
    "### Generative AI Usage\n",
    "\n",
    "If you used any generative AI tools, please add links to your transcripts below, and any other information that you feel is necessary to comply with the [generative AI policy](https://www.bu.edu/cds-faculty/culture-community/gaia-policy/).\n",
    "If you did not use any generative AI tools, simply write NONE below."
   ]
  },
  {
   "cell_type": "markdown",
   "metadata": {},
   "source": [
    "YOUR ANSWER HERE\n",
    "\n",
    "Problem 1\n",
    "* I thought that `model.get_params()` returned the number of parameters for the model, but it's actually a dictionary of hyperparameters of the sklearn `LinearRegression` like `fit_intercept`.\n",
    "* https://chatgpt.com/share/68cd8af1-10a8-800d-bbbf-4cd449d1942e\n",
    "\n",
    "Problem 2\n",
    "* I was trying to get ahead on the homework and wasn't sure how to define a function approaching an x-limit using python. I put in some examples for derivatives since I wanted to keep it simple. I asked ChatGPT to clarify it's answer to learn that when we say `x != 2` we really mean that as the limit of x approaches 2, x cannot equal 2 because it will cause a zero division error.\n",
    "* https://chatgpt.com/share/68c832a4-2898-800d-8c82-77495fb7b1f9\n",
    "\n",
    "Problem 13\n",
    "* I wasn’t sure how to set the mean row to one value. I thought the question wanted to return the mean for all of the other columns. I then realized after using ChatGPT I need to wrap in a pd.Dataframe and use [] so that it builds a single row with many columns instead of one column with many rows.\n",
    "* https://chatgpt.com/share/68cd911f-d708-800d-b7bd-e99488698799\n",
    "\n",
    "Problem 17\n",
    "* I wasn’t sure how to set the limit to 0 without getting a division by zero error. I learned about the squeeze theorem from ChatGPT.\n",
    "* https://chatgpt.com/share/68cd93c2-415c-800d-b7f3-338012e2b54d\n",
    "\n",
    "Problem 20\n",
    "* I did some quick googling on minimizing a quadratic (quartic) function and knew to start with the derivative. I didn’t really understand how to proceed after that. ChatGPT showed me Newton’s rule which I learned more about and how to find the suspected minimum for x.\n",
    "* https://chatgpt.com/share/68cdc037-7938-800d-9383-a3835e1ad800"
   ]
  }
 ],
 "metadata": {
  "colab": {
   "toc_visible": false
  },
  "kernelspec": {
   "display_name": "Python 3",
   "name": "python3"
  },
  "language_info": {
   "codemirror_mode": {
    "name": "ipython",
    "version": 3
   },
   "file_extension": ".py",
   "mimetype": "text/x-python",
   "name": "python",
   "nbconvert_exporter": "python",
   "pygments_lexer": "ipython3",
   "version": "3.13.0"
  }
 },
 "nbformat": 4,
 "nbformat_minor": 0
}
